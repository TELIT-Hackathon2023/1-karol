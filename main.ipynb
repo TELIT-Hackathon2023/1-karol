{
 "cells": [
  {
   "cell_type": "code",
   "execution_count": 79,
   "id": "initial_id",
   "metadata": {
    "collapsed": true,
    "ExecuteTime": {
     "end_time": "2023-11-25T21:25:37.181848096Z",
     "start_time": "2023-11-25T21:25:37.140176237Z"
    }
   },
   "outputs": [],
   "source": [
    "from openai_api import client\n",
    "\n",
    "from crawler import crawl, TextToCSVClass, get_shortened\n",
    "import pandas as pd\n",
    "import tiktoken"
   ]
  },
  {
   "cell_type": "code",
   "execution_count": 80,
   "outputs": [],
   "source": [
    "domain = \"pdza.org\"  # <- put your domain to be crawled\n",
    "full_url = \"https://pdza.org/sea-turtle-check-up/\"  # <- put your domain to be crawled with https or http"
   ],
   "metadata": {
    "collapsed": false,
    "ExecuteTime": {
     "end_time": "2023-11-25T21:25:37.677068097Z",
     "start_time": "2023-11-25T21:25:37.649722773Z"
    }
   },
   "id": "ee93f080e32093ba"
  },
  {
   "cell_type": "code",
   "execution_count": 81,
   "outputs": [
    {
     "name": "stdout",
     "output_type": "stream",
     "text": [
      "https://pdza.org/sea-turtle-check-up/\n"
     ]
    }
   ],
   "source": [
    "crawl(full_url)\n",
    "TextToCSVClass(domain).to_csv()"
   ],
   "metadata": {
    "collapsed": false,
    "ExecuteTime": {
     "end_time": "2023-11-25T21:25:40.837381783Z",
     "start_time": "2023-11-25T21:25:38.094542099Z"
    }
   },
   "id": "2a254fd13461f070"
  },
  {
   "cell_type": "code",
   "execution_count": 82,
   "outputs": [
    {
     "data": {
      "text/plain": "<Axes: >"
     },
     "execution_count": 82,
     "metadata": {},
     "output_type": "execute_result"
    },
    {
     "data": {
      "text/plain": "<Figure size 640x480 with 1 Axes>",
      "image/png": "[encoded data removed]"
     },
     "metadata": {},
     "output_type": "display_data"
    }
   ],
   "source": [
    "tokenizer = tiktoken.get_encoding(\"cl100k_base\")\n",
    "shortened = get_shortened()\n",
    "df = pd.DataFrame(shortened, columns=['text'])\n",
    "df['n_tokens'] = df.text.apply(lambda x: len(tokenizer.encode(x)))\n",
    "df.n_tokens.hist()"
   ],
   "metadata": {
    "collapsed": false,
    "ExecuteTime": {
     "end_time": "2023-11-25T21:25:42.925094426Z",
     "start_time": "2023-11-25T21:25:42.645232964Z"
    }
   },
   "id": "d174858763ae8669"
  },
  {
   "cell_type": "code",
   "execution_count": 83,
   "outputs": [
    {
     "data": {
      "text/plain": "                                                text  n_tokens  \\\n0  rg sea turtle check up . display;width;text-al...        15   \n1  a turtle check up .     Sea Turtle Check-Up - ...       498   \n\n                                          embeddings  \n0  [-0.005271165166050196, 0.007509703282266855, ...  \n1  [0.025263050571084023, -0.001983973430469632, ...  ",
      "text/html": "<div>\n<style scoped>\n    .dataframe tbody tr th:only-of-type {\n        vertical-align: middle;\n    }\n\n    .dataframe tbody tr th {\n        vertical-align: top;\n    }\n\n    .dataframe thead th {\n        text-align: right;\n    }\n</style>\n<table border=\"1\" class=\"dataframe\">\n  <thead>\n    <tr style=\"text-align: right;\">\n      <th></th>\n      <th>text</th>\n      <th>n_tokens</th>\n      <th>embeddings</th>\n    </tr>\n  </thead>\n  <tbody>\n    <tr>\n      <th>0</th>\n      <td>rg sea turtle check up . display;width;text-al...</td>\n      <td>15</td>\n      <td>[-0.005271165166050196, 0.007509703282266855, ...</td>\n    </tr>\n    <tr>\n      <th>1</th>\n      <td>a turtle check up .     Sea Turtle Check-Up - ...</td>\n      <td>498</td>\n      <td>[0.025263050571084023, -0.001983973430469632, ...</td>\n    </tr>\n  </tbody>\n</table>\n</div>"
     },
     "execution_count": 83,
     "metadata": {},
     "output_type": "execute_result"
    }
   ],
   "source": [
    "df['embeddings'] = df.text.apply(\n",
    "    lambda x: client.embeddings.create(input=x, model='text-embedding-ada-002').data[0].embedding)\n",
    "\n",
    "df.to_csv('processed/embeddings.csv')\n",
    "df.head()"
   ],
   "metadata": {
    "collapsed": false,
    "ExecuteTime": {
     "end_time": "2023-11-25T21:25:44.576104147Z",
     "start_time": "2023-11-25T21:25:43.583952416Z"
    }
   },
   "id": "d9923096cc52d9e9"
  },
  {
   "cell_type": "code",
   "execution_count": 84,
   "outputs": [
    {
     "data": {
      "text/plain": "                                                text  n_tokens  \\\n0  rg sea turtle check up . display;width;text-al...        15   \n1  a turtle check up .     Sea Turtle Check-Up - ...       498   \n\n                                          embeddings  \n0  [-0.005271165166050196, 0.007509703282266855, ...  \n1  [0.025263050571084023, -0.001983973430469632, ...  ",
      "text/html": "<div>\n<style scoped>\n    .dataframe tbody tr th:only-of-type {\n        vertical-align: middle;\n    }\n\n    .dataframe tbody tr th {\n        vertical-align: top;\n    }\n\n    .dataframe thead th {\n        text-align: right;\n    }\n</style>\n<table border=\"1\" class=\"dataframe\">\n  <thead>\n    <tr style=\"text-align: right;\">\n      <th></th>\n      <th>text</th>\n      <th>n_tokens</th>\n      <th>embeddings</th>\n    </tr>\n  </thead>\n  <tbody>\n    <tr>\n      <th>0</th>\n      <td>rg sea turtle check up . display;width;text-al...</td>\n      <td>15</td>\n      <td>[-0.005271165166050196, 0.007509703282266855, ...</td>\n    </tr>\n    <tr>\n      <th>1</th>\n      <td>a turtle check up .     Sea Turtle Check-Up - ...</td>\n      <td>498</td>\n      <td>[0.025263050571084023, -0.001983973430469632, ...</td>\n    </tr>\n  </tbody>\n</table>\n</div>"
     },
     "execution_count": 84,
     "metadata": {},
     "output_type": "execute_result"
    }
   ],
   "source": [
    "import numpy as np\n",
    "from scipy import spatial\n",
    "\n",
    "df = pd.read_csv('processed/embeddings.csv', index_col=0)\n",
    "df['embeddings'] = df['embeddings'].apply(eval).apply(np.array)\n",
    "\n",
    "df.head()"
   ],
   "metadata": {
    "collapsed": false,
    "ExecuteTime": {
     "end_time": "2023-11-25T21:25:46.100920803Z",
     "start_time": "2023-11-25T21:25:46.064727053Z"
    }
   },
   "id": "1b13654ded5b8618"
  },
  {
   "cell_type": "code",
   "execution_count": 109,
   "outputs": [],
   "source": [
    "def create_context(\n",
    "    question, dataframe, max_len=1800, size=\"ada\"\n",
    "):\n",
    "    \"\"\"\n",
    "    Create a context for a question by finding the most similar context from the dataframe\n",
    "    \"\"\"\n",
    "\n",
    "    # Get the embeddings for the question\n",
    "    q_embeddings = client.embeddings.create(input=question, model='text-embedding-ada-002').data[0].embedding\n",
    "    \n",
    "    df['distances'] = [[] for _ in range(len(df))]\n",
    "    # Get the distances from the embeddings\n",
    "    for i in range(0,len(dataframe['embeddings'])):\n",
    "        dataframe['distances', i] = 1 - spatial.distance.cosine(q_embeddings, dataframe['embeddings'][i])\n",
    "\n",
    "\n",
    "    returns = []\n",
    "    cur_len = 0\n",
    "\n",
    "    # Sort by distance and add the text to the context until the context is too long\n",
    "    for i, row in dataframe.sort_values('distances', ascending=True).iterrows():\n",
    "\n",
    "        # Add the length of the text to the current length\n",
    "        cur_len += row['n_tokens'] + 4\n",
    "\n",
    "        # If the context is too long, break\n",
    "        if cur_len > max_len:\n",
    "            break\n",
    "\n",
    "        # Else add it to the text that is being returned\n",
    "        returns.append(row[\"text\"])\n",
    "\n",
    "    # Return the context\n",
    "    return \"\\n\\n###\\n\\n\".join(returns)"
   ],
   "metadata": {
    "collapsed": false,
    "ExecuteTime": {
     "end_time": "2023-11-25T21:33:40.029831156Z",
     "start_time": "2023-11-25T21:33:39.986208690Z"
    }
   },
   "id": "ea7b07f8dd87785"
  },
  {
   "cell_type": "code",
   "execution_count": 115,
   "outputs": [],
   "source": [
    "def answer_question(\n",
    "        dataframe,\n",
    "        model=\"gpt-3.5-turbo\",\n",
    "        question=\"Am I allowed to publish model outputs to Twitter, without a human review?\",\n",
    "        max_len=1800,\n",
    "        size=\"ada\",\n",
    "        max_tokens=150,\n",
    "        stop_sequence=None\n",
    "):\n",
    "    context = create_context(\n",
    "        question,\n",
    "        dataframe,\n",
    "        max_len=max_len,\n",
    "        size=size,\n",
    "    )\n",
    "    try:\n",
    "        # Create a chat completion using the question and context\n",
    "        response = client.chat.completions.create(\n",
    "            model=model,\n",
    "            messages=[\n",
    "                {\"role\": \"system\",\n",
    "                 \"content\": \"Answer the question based on the context below, and if the question can't be answered based on the context, say \\\"I don't know\\\"\\n\\n\"},\n",
    "                {\"role\": \"user\", \"content\": f\"Context: {context}\\n\\n---\\n\\nQuestion: {question}\\nAnswer:\"}\n",
    "            ],\n",
    "            temperature=0,\n",
    "            max_tokens=max_tokens,\n",
    "            top_p=1,\n",
    "            frequency_penalty=0,\n",
    "            presence_penalty=0,\n",
    "            stop=stop_sequence,\n",
    "        )\n",
    "        return response.choices[0].message.content\n",
    "    except Exception as e:\n",
    "        print(e)\n",
    "        return \"\""
   ],
   "metadata": {
    "collapsed": false,
    "ExecuteTime": {
     "end_time": "2023-11-25T22:02:03.989829946Z",
     "start_time": "2023-11-25T22:02:03.948408262Z"
    }
   },
   "id": "c29beae5363ff4e1"
  },
  {
   "cell_type": "code",
   "execution_count": 116,
   "outputs": [
    {
     "data": {
      "text/plain": "'No, this page is not about ponies.'"
     },
     "execution_count": 116,
     "metadata": {},
     "output_type": "execute_result"
    }
   ],
   "source": [
    "answer_question(df, question=\"Is this page about ponies?\")"
   ],
   "metadata": {
    "collapsed": false,
    "ExecuteTime": {
     "end_time": "2023-11-25T22:02:06.447721698Z",
     "start_time": "2023-11-25T22:02:04.639944388Z"
    }
   },
   "id": "8aca6b022fe28305"
  },
  {
   "cell_type": "code",
   "execution_count": null,
   "outputs": [],
   "source": [
    "    "
   ],
   "metadata": {
    "collapsed": false
   },
   "id": "3bb941a716fd51cb"
  }
 ],
 "metadata": {
  "kernelspec": {
   "display_name": "Python 3",
   "language": "python",
   "name": "python3"
  },
  "language_info": {
   "codemirror_mode": {
    "name": "ipython",
    "version": 2
   },
   "file_extension": ".py",
   "mimetype": "text/x-python",
   "name": "python",
   "nbconvert_exporter": "python",
   "pygments_lexer": "ipython2",
   "version": "2.7.6"
  }
 },
 "nbformat": 4,
 "nbformat_minor": 5
}
